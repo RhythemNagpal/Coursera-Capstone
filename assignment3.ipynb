{
  "nbformat": 4,
  "nbformat_minor": 0,
  "metadata": {
    "colab": {
      "name": "Rhythem Neighbourhood Capstone.ipynb",
      "version": "0.3.2",
      "provenance": [],
      "collapsed_sections": []
    },
    "kernelspec": {
      "name": "python3",
      "display_name": "Python 3"
    }
  },
  "cells": [
    {
      "cell_type": "markdown",
      "metadata": {
        "id": "bTIvhbgHVPSi",
        "colab_type": "text"
      },
      "source": [
        "##Coursera Capstone Project\n",
        "###Battles of neighbourhoods\n"
      ]
    },
    {
      "cell_type": "code",
      "metadata": {
        "id": "a6gsWofbB3Hn",
        "colab_type": "code",
        "colab": {}
      },
      "source": [
        "import numpy as np\n",
        "\n",
        "import pandas as pd\n",
        "pd.set_option(\"display.max_columns\", None)\n",
        "pd.set_option(\"display.max_rows\", None)\n",
        "\n",
        "import json\n",
        "\n",
        "from geopy.geocoders import Nominatim\n",
        "\n",
        "import requests\n",
        "\n",
        "from pandas.io.json import json_normalize\n",
        "\n",
        "import matplotlib.cm as cm\n",
        "import matplotlib.colors as colors\n",
        "import matplotlib as mpl\n",
        "import matplotlib.pyplot as plt\n",
        "mpl.style.use(\"ggplot\")\n",
        "#%matplotlib inline\n",
        "import seaborn as sns\n",
        "'''\n",
        "from example.commons import Faker\n",
        "from pyecharts import options as opts\n",
        "from pyecharts.charts import Bar\n",
        "from pyecharts.globals import CurrentConfig, NotebookType\n",
        "CurrentConfig.NOTEBOOK_TYPE = NotebookType.JUPYTER_LAB\n",
        "'''\n",
        "from sklearn.cluster import KMeans\n",
        "\n",
        "import folium"
      ],
      "execution_count": 0,
      "outputs": []
    },
    {
      "cell_type": "code",
      "metadata": {
        "id": "mu04aUHzZEVA",
        "colab_type": "code",
        "colab": {}
      },
      "source": [
        "temp_list = df_canloc.columns.values[1:df_canloc.shape[1]]\n",
        "df_canloc = df_canloc[temp_list]\n",
        "df_canloc.head()\n",
        "df_canloc[df_canloc['Borough'] == 'Downtown Toronto'].reset_index()\n"
      ],
      "execution_count": 0,
      "outputs": []
    },
    {
      "cell_type": "code",
      "metadata": {
        "id": "Bp6fBFXufuk1",
        "colab_type": "code",
        "colab": {}
      },
      "source": [
        "address = 'Toronto, Canada'\n",
        "\n",
        "geolocator = Nominatim(user_agent='toronto_explorer')\n",
        "location = geolocator.geocode(address)\n",
        "latitude = location.latitude\n",
        "longitude = location.longitude\n",
        "print(\"The geographical coordinates of {} are {}, {}.\". format(str(address), latitude, longitude))\n",
        "map_toronto = folium.Map(location=[latitude, longitude], zoom_start=11)\n",
        "\n",
        "# add markers to map\n",
        "for lat, lng, label in zip(df_canloc['Latitude'], df_canloc['Longitude'], df_canloc['Borough']):\n",
        "    label = folium.Popup(label, parse_html=True)\n",
        "    folium.CircleMarker([lat,lng],\n",
        "                       radius = 5,\n",
        "                       popup=label,\n",
        "                       color='blue',\n",
        "                       fill=True,\n",
        "                       fill_color='#3186cc',\n",
        "                       fill_opacity=0.7,\n",
        "                       parse_html=False).add_to(map_toronto)\n",
        "\n",
        "map_toronto"
      ],
      "execution_count": 0,
      "outputs": []
    },
    {
      "cell_type": "code",
      "metadata": {
        "id": "55kViTPtf4LG",
        "colab_type": "code",
        "colab": {}
      },
      "source": [
        "def get_category_type(row):\n",
        "    try:\n",
        "        categories_list = row['categories']\n",
        "    except:\n",
        "        categories_list = row['venue.categories']\n",
        "        \n",
        "    if len(categories_list) == 0:\n",
        "        return None\n",
        "    else:\n",
        "        return categories_list[0]['name']\n",
        "      "
      ],
      "execution_count": 0,
      "outputs": []
    },
    {
      "cell_type": "code",
      "metadata": {
        "id": "MSycw8LLf-E_",
        "colab_type": "code",
        "colab": {}
      },
      "source": [
        "Downtown_data = df_canloc[df_canloc['Borough'] == 'Downtown Toronto']\n",
        "# get the Borough coordinates\n",
        "location = Nominatim(user_agent='toronto_explorer').geocode('Downtown Toronto, Toronto, Canada')\n",
        "latitude = location.latitude\n",
        "longitude = location.longitude\n",
        "url = 'https://api.foursquare.com/v2/venues/explore?client_id={}&client_secret={}&ll={},{}&v={}&radius={}&limit={}'.format(\n",
        "    CLIENT_ID, \n",
        "    CLIENT_SECRET, \n",
        "    latitude, \n",
        "    longitude, \n",
        "    VERSION, \n",
        "    radius, \n",
        "    LIMIT)"
      ],
      "execution_count": 0,
      "outputs": []
    },
    {
      "cell_type": "code",
      "metadata": {
        "id": "3KyRj9x0gDub",
        "colab_type": "code",
        "colab": {}
      },
      "source": [
        "venues = results['response']['groups'][0]['items']\n",
        "\n",
        "nearby_venues = json_normalize(venues) # flatten JSON\n",
        "\n",
        "# filter columns\n",
        "filter_columns = ['venue.name', 'venue.categories', 'venue.location.lat', 'venue.location.lng']\n",
        "nearby_venues = nearby_venues.loc[:, filter_columns]\n",
        "\n",
        "# nearby_venues.head() # venue.categories还需要作进一步处理\n",
        "# nearby_venues['venue.categories'][0]\n",
        "# filter the category for each row\n",
        "nearby_venues['venue.categories'] = nearby_venues.apply(get_category_type, axis = 1)\n",
        "\n",
        "# clean columns\n",
        "nearby_venues.columns = [col.split(\".\")[-1] for col in nearby_venues.columns]\n",
        "print(\"There are {} nearby venues.\".format(nearby_venues.shape[0]))\n",
        "nearby_venues.head()"
      ],
      "execution_count": 0,
      "outputs": []
    },
    {
      "cell_type": "code",
      "metadata": {
        "id": "hXxKQWSDgOOZ",
        "colab_type": "code",
        "colab": {}
      },
      "source": [
        "def getNearbyVenues(names, latitudes, longitudes, radius=500):\n",
        "    \n",
        "    venues_list=[]\n",
        "    for name, lat, lng in zip(names, latitudes, longitudes):\n",
        "        print(name)\n",
        "            \n",
        "        # create the API request URL\n",
        "        url = 'https://api.foursquare.com/v2/venues/explore?&client_id={}&client_secret={}&v={}&ll={},{}&radius={}&limit={}'.format(\n",
        "            CLIENT_ID, \n",
        "            CLIENT_SECRET, \n",
        "            VERSION, \n",
        "            lat, \n",
        "            lng, \n",
        "            radius, \n",
        "            LIMIT)\n",
        "            \n",
        "        # make the GET request\n",
        "        results = requests.get(url).json()[\"response\"]['groups'][0]['items']\n",
        "        \n",
        "        # return only relevant information for each nearby venue\n",
        "        venues_list.append([(\n",
        "            name, \n",
        "            lat, \n",
        "            lng, \n",
        "            v['venue']['name'], \n",
        "            v['venue']['location']['lat'], \n",
        "            v['venue']['location']['lng'],  \n",
        "            v['venue']['categories'][0]['name']) for v in results])\n",
        "\n",
        "    nearby_venues = pd.DataFrame([item for venue_list in venues_list for item in venue_list])\n",
        "    nearby_venues.columns = ['Neighborhood', \n",
        "                  'Neighborhood Latitude', \n",
        "                  'Neighborhood Longitude', \n",
        "                  'Venue', \n",
        "                  'Venue Latitude', \n",
        "                  'Venue Longitude', \n",
        "                  'Venue Category']\n",
        "    \n",
        "    return(nearby_venues)"
      ],
      "execution_count": 0,
      "outputs": []
    }
  ]
}